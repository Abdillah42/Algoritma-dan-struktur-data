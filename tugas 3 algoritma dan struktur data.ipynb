{
 "cells": [
  {
   "cell_type": "code",
   "execution_count": 5,
   "metadata": {},
   "outputs": [
    {
     "name": "stdout",
     "output_type": "stream",
     "text": [
      "20\n",
      "3.14\n",
      "60\n",
      "variabel milik Abdillah\n",
      "variabel milik Abdillah adalah 60\n"
     ]
    }
   ],
   "source": [
    "#Abdillah\n",
    "\n",
    "var=20\n",
    "phi=3.14\n",
    "var2=60\n",
    "variabel_saya= \"variabel milik Abdillah\"\n",
    "\n",
    "print(var)\n",
    "print(phi)\n",
    "print(var2)\n",
    "print(variabel_saya)\n",
    "print(variabel_saya,\"adalah\",var2)"
   ]
  },
  {
   "cell_type": "code",
   "execution_count": 6,
   "metadata": {},
   "outputs": [
    {
     "name": "stdout",
     "output_type": "stream",
     "text": [
      "20\n",
      "3.14\n",
      "60\n",
      "variabel milik Abdillah\n",
      "variabel milik Abdillah adalah 60\n"
     ]
    },
    {
     "ename": "NameError",
     "evalue": "name 'var2' is not defined",
     "output_type": "error",
     "traceback": [
      "\u001b[1;31m---------------------------------------------------------------------------\u001b[0m",
      "\u001b[1;31mNameError\u001b[0m                                 Traceback (most recent call last)",
      "\u001b[1;32m<ipython-input-6-269ca13813d1>\u001b[0m in \u001b[0;36m<module>\u001b[1;34m\u001b[0m\n\u001b[0;32m     11\u001b[0m \u001b[1;33m\u001b[0m\u001b[0m\n\u001b[0;32m     12\u001b[0m \u001b[1;32mdel\u001b[0m\u001b[1;33m(\u001b[0m\u001b[0mvar2\u001b[0m\u001b[1;33m)\u001b[0m\u001b[1;33m\u001b[0m\u001b[1;33m\u001b[0m\u001b[0m\n\u001b[1;32m---> 13\u001b[1;33m \u001b[0mprint\u001b[0m\u001b[1;33m(\u001b[0m\u001b[0mvar2\u001b[0m\u001b[1;33m)\u001b[0m\u001b[1;33m\u001b[0m\u001b[1;33m\u001b[0m\u001b[0m\n\u001b[0m",
      "\u001b[1;31mNameError\u001b[0m: name 'var2' is not defined"
     ]
    }
   ],
   "source": [
    "var=20\n",
    "phi=3.14\n",
    "var2=60\n",
    "variabel_saya= \"variabel milik Abdillah\"\n",
    "\n",
    "print(var)\n",
    "print(phi)\n",
    "print(var2)\n",
    "print(variabel_saya)\n",
    "print(variabel_saya,\"adalah\",var2)\n",
    "\n",
    "del(var2)\n",
    "print(var2)\n"
   ]
  },
  {
   "cell_type": "code",
   "execution_count": 3,
   "metadata": {},
   "outputs": [
    {
     "name": "stdout",
     "output_type": "stream",
     "text": [
      "keliling lingkaran sama dengan 314.0\n"
     ]
    }
   ],
   "source": [
    "r=50\n",
    "phi=3.14\n",
    "k=2*phi*r\n",
    "hasil=\"keliling lingkaran\"\n",
    "\n",
    "print(hasil,\"sama dengan\", k)"
   ]
  },
  {
   "cell_type": "code",
   "execution_count": 6,
   "metadata": {},
   "outputs": [
    {
     "name": "stdout",
     "output_type": "stream",
     "text": [
      "True\n",
      "False\n"
     ]
    }
   ],
   "source": [
    "semut=1\n",
    "gajah=10\n",
    "\n",
    "print(semut<gajah)\n",
    "print(gajah<semut)"
   ]
  },
  {
   "cell_type": "code",
   "execution_count": 8,
   "metadata": {},
   "outputs": [
    {
     "name": "stdout",
     "output_type": "stream",
     "text": [
      "64.0\n",
      "0b1000000\n",
      "0x40\n"
     ]
    }
   ],
   "source": [
    "x=64\n",
    "\n",
    "print(float(x))\n",
    "print(bin(x))\n",
    "print(hex(x))\n"
   ]
  },
  {
   "cell_type": "code",
   "execution_count": 41,
   "metadata": {},
   "outputs": [
    {
     "name": "stdout",
     "output_type": "stream",
     "text": [
      "Biodata Mahasiswa\n",
      "nama : Abdillah\n",
      "NIM : 20090142\n",
      "\n",
      "Dia mahasiswa semester 1 yang berprestasi, karena memiliki IPK sebesar 3.8\n"
     ]
    }
   ],
   "source": [
    "judul=\"Biodata Mahasiswa\"\n",
    "nama=\"nama : Abdillah\"\n",
    "nim=\"NIM : 20090142\"\n",
    "semester=1\n",
    "ipk=3.80\n",
    "x='''\n",
    "Dia mahasiswa semester'''\n",
    "y=\"yang berprestasi, karena memiliki IPK sebesar\"\n",
    "\n",
    "\n",
    "print(judul)\n",
    "print(nama)\n",
    "print(nim)\n",
    "print(x, semester, y, ipk)"
   ]
  },
  {
   "cell_type": "code",
   "execution_count": 38,
   "metadata": {},
   "outputs": [
    {
     "name": "stdout",
     "output_type": "stream",
     "text": [
      "Biodata Mahasiswa\n",
      "nama : Abdillah\n",
      "NIM : 20090142\n",
      "\n",
      "Dia mahasiswa semester 1 yang berprestasi, karena memiliki IPK sebesar 3.8\n"
     ]
    },
    {
     "ename": "NameError",
     "evalue": "name 'ipk' is not defined",
     "output_type": "error",
     "traceback": [
      "\u001b[1;31m---------------------------------------------------------------------------\u001b[0m",
      "\u001b[1;31mNameError\u001b[0m                                 Traceback (most recent call last)",
      "\u001b[1;32m<ipython-input-38-5667f542b7f7>\u001b[0m in \u001b[0;36m<module>\u001b[1;34m\u001b[0m\n\u001b[0;32m     15\u001b[0m \u001b[1;33m\u001b[0m\u001b[0m\n\u001b[0;32m     16\u001b[0m \u001b[1;32mdel\u001b[0m\u001b[1;33m(\u001b[0m\u001b[0mipk\u001b[0m\u001b[1;33m)\u001b[0m\u001b[1;33m\u001b[0m\u001b[1;33m\u001b[0m\u001b[0m\n\u001b[1;32m---> 17\u001b[1;33m \u001b[0mprint\u001b[0m\u001b[1;33m(\u001b[0m\u001b[0mipk\u001b[0m\u001b[1;33m)\u001b[0m\u001b[1;33m\u001b[0m\u001b[1;33m\u001b[0m\u001b[0m\n\u001b[0m",
      "\u001b[1;31mNameError\u001b[0m: name 'ipk' is not defined"
     ]
    }
   ],
   "source": [
    "judul=\"Biodata Mahasiswa\"\n",
    "nama=\"nama : Abdillah\"\n",
    "nim=\"NIM : 20090142\"\n",
    "semester=1\n",
    "ipk=3.80\n",
    "x='''\n",
    "Dia mahasiswa semester'''\n",
    "y=\"yang berprestasi, karena memiliki IPK sebesar\"\n",
    "\n",
    "\n",
    "print(judul)\n",
    "print(nama)\n",
    "print(nim)\n",
    "print(x, semester, y, ipk)\n",
    "\n",
    "del(ipk)\n",
    "print(ipk)"
   ]
  },
  {
   "cell_type": "code",
   "execution_count": null,
   "metadata": {},
   "outputs": [],
   "source": []
  }
 ],
 "metadata": {
  "kernelspec": {
   "display_name": "Python 3",
   "language": "python",
   "name": "python3"
  },
  "language_info": {
   "codemirror_mode": {
    "name": "ipython",
    "version": 3
   },
   "file_extension": ".py",
   "mimetype": "text/x-python",
   "name": "python",
   "nbconvert_exporter": "python",
   "pygments_lexer": "ipython3",
   "version": "3.8.3"
  }
 },
 "nbformat": 4,
 "nbformat_minor": 4
}
