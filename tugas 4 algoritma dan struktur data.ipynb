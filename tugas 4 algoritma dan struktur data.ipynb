{
 "cells": [
  {
   "cell_type": "code",
   "execution_count": 1,
   "metadata": {},
   "outputs": [
    {
     "name": "stdout",
     "output_type": "stream",
     "text": [
      "hasil 8.0 + 19.0 = 27.0\n",
      "hasil 8.0 - 19.0 = 11.0\n",
      "hasil 8.0 x 19.0 = 152.0\n",
      "hasil 8.0 / 19.0 = 2.375\n",
      "hasil 8.0 % 19.0 = 8.0\n",
      "hasil 8.0 pangkat 19.0 = 1.4411518807585587e+17\n"
     ]
    }
   ],
   "source": [
    "#Abdillah\n",
    "\n",
    "x=float(8)\n",
    "y=float(19)\n",
    "a=float(x + y)\n",
    "b=float(y-x)\n",
    "c=float(x*y)\n",
    "d=float(y/x)\n",
    "e=float(x%y)\n",
    "f=float(x**y)\n",
    "\n",
    "print(\"hasil\", x, \"+\", y, \"=\", a)\n",
    "print(\"hasil\", x, \"-\", y, \"=\", b)\n",
    "print(\"hasil\", x, \"x\", y, \"=\", c)\n",
    "print(\"hasil\", x,\"/\",y, \"=\", d)\n",
    "print(\"hasil\", x, \"%\", y, \"=\", e)\n",
    "print(\"hasil\", x, \"pangkat\", y, \"=\", f)\n",
    "\n"
   ]
  },
  {
   "cell_type": "code",
   "execution_count": 2,
   "metadata": {},
   "outputs": [
    {
     "name": "stdout",
     "output_type": "stream",
     "text": [
      "10.0\n",
      "15.0\n",
      "10.0\n",
      "20.0\n",
      "2.0\n",
      "2.0\n",
      "4.0\n"
     ]
    }
   ],
   "source": [
    "a=float(10)\n",
    "print(a)\n",
    "a += 5\n",
    "print(a)\n",
    "a -= 5\n",
    "print(a)\n",
    "a *= 2\n",
    "print(a)\n",
    "a /= 10\n",
    "print(a)\n",
    "a %= 6\n",
    "print(a)\n",
    "a **= 2\n",
    "print(a)\n"
   ]
  },
  {
   "cell_type": "code",
   "execution_count": 1,
   "metadata": {},
   "outputs": [
    {
     "name": "stdout",
     "output_type": "stream",
     "text": [
      "apakah a lebih besar dari b : True\n",
      "apakah a lebih kecil dari b : False\n",
      "apakah a sama dengan b : False\n",
      "apakah a tidak sama dengan b : True\n",
      "apkah a lebih besar dari sama dengan b : True\n",
      "apakah a kurang dari sama dengan b : False\n"
     ]
    }
   ],
   "source": [
    "a=6\n",
    "b=5\n",
    "c= a>b\n",
    "d= a<b\n",
    "e= a == b\n",
    "f= a != b\n",
    "g= a >= b\n",
    "h= a <= b\n",
    "\n",
    "print(\"apakah a lebih besar dari b :\", c)\n",
    "print(\"apakah a lebih kecil dari b :\", d)\n",
    "print(\"apakah a sama dengan b :\", e)\n",
    "print(\"apakah a tidak sama dengan b :\", f)\n",
    "print(\"apkah a lebih besar dari sama dengan b :\", g)\n",
    "print(\"apakah a kurang dari sama dengan b :\", h)"
   ]
  },
  {
   "cell_type": "code",
   "execution_count": 2,
   "metadata": {},
   "outputs": [
    {
     "name": "stdout",
     "output_type": "stream",
     "text": [
      "False\n",
      "False\n"
     ]
    }
   ],
   "source": [
    "a=True\n",
    "b=False\n",
    "c=False\n",
    "d=False\n",
    "e=True\n",
    "j=False\n",
    "\n",
    "g=a and b\n",
    "h=c or d\n",
    "\n",
    "print(g)\n",
    "print(h)"
   ]
  },
  {
   "cell_type": "code",
   "execution_count": 27,
   "metadata": {},
   "outputs": [
    {
     "name": "stdout",
     "output_type": "stream",
     "text": [
      "nama bayi :rex\n",
      "berat badan dalam kg :20\n",
      "dalam ons jadi = 200.0 ons\n",
      "dalam 1 bulan lagi beratnya harus 230.0 ons\n"
     ]
    }
   ],
   "source": [
    "a=input(str(\"nama bayi :\" ))\n",
    "b=float(input(\"berat badan dalam kg :\" ))\n",
    "c= b*10\n",
    "d= float(c+30)\n",
    "print(\"dalam ons jadi =\", c, \"ons\")\n",
    "print(\"dalam 1 bulan lagi beratnya harus\",d , \"ons\")"
   ]
  },
  {
   "cell_type": "code",
   "execution_count": null,
   "metadata": {},
   "outputs": [],
   "source": []
  }
 ],
 "metadata": {
  "kernelspec": {
   "display_name": "Python 3",
   "language": "python",
   "name": "python3"
  },
  "language_info": {
   "codemirror_mode": {
    "name": "ipython",
    "version": 3
   },
   "file_extension": ".py",
   "mimetype": "text/x-python",
   "name": "python",
   "nbconvert_exporter": "python",
   "pygments_lexer": "ipython3",
   "version": "3.8.3"
  }
 },
 "nbformat": 4,
 "nbformat_minor": 4
}
