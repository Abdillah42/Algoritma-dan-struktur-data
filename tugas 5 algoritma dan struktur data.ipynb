{
 "cells": [
  {
   "cell_type": "code",
   "execution_count": 1,
   "metadata": {},
   "outputs": [
    {
     "name": "stdout",
     "output_type": "stream",
     "text": [
      "because i proud to make something new\n",
      "i like programming\n"
     ]
    }
   ],
   "source": [
    "#Abdillah\n",
    "\n",
    "def x() :\n",
    "    print(\"because i proud to make something new\")\n",
    "def y() :\n",
    "    print(\"i like programming\")\n",
    "\n",
    "x()\n",
    "y()"
   ]
  },
  {
   "cell_type": "code",
   "execution_count": 56,
   "metadata": {},
   "outputs": [
    {
     "name": "stdout",
     "output_type": "stream",
     "text": [
      "silahkan masukan nama :abdillah\n",
      "nama saya : abdillah\n",
      "jadi luas baloknya : 50\n",
      "jadi luas baloknya : 5000\n"
     ]
    }
   ],
   "source": [
    "def x() :\n",
    "    x = str(input(\"silahkan masukan nama :\"))\n",
    "    print(\"nama saya :\", x)\n",
    "\n",
    "def y(panjang, lebar) :\n",
    "    luas = (panjang*lebar)\n",
    "    print(\"jadi luas baloknya :\", luas)\n",
    "\n",
    "x()\n",
    "y(5, 10)\n",
    "y(100, 50)"
   ]
  },
  {
   "cell_type": "code",
   "execution_count": 88,
   "metadata": {},
   "outputs": [
    {
     "name": "stdout",
     "output_type": "stream",
     "text": [
      "panjangnya :5\n",
      "lebarnya :3\n",
      "tingginya :10\n",
      "jadi luas persegi panjangnya : 15.0\n",
      "jadi volume balok : 150.0\n"
     ]
    }
   ],
   "source": [
    "panjang = float(input(\"panjangnya :\"))\n",
    "lebar = float(input(\"lebarnya :\"))\n",
    "tinggi = float(input(\"tingginya :\"))\n",
    "def x() :\n",
    "    luas = (panjang*lebar)\n",
    "    return luas\n",
    "def y() :\n",
    "    volume = (panjang*lebar*tinggi)\n",
    "    return volume\n",
    "\n",
    "print(\"jadi luas persegi panjangnya :\", x())\n",
    "print(\"jadi volume balok :\", y())"
   ]
  },
  {
   "cell_type": "code",
   "execution_count": 87,
   "metadata": {},
   "outputs": [
    {
     "name": "stdout",
     "output_type": "stream",
     "text": [
      "jumlah gajah :8\n",
      "jumlah semut :4\n",
      "apakah jumlah gajah sama dengan jumlah semut : False\n",
      "apakah jumlah gajah lebih besar dari semut : True\n"
     ]
    }
   ],
   "source": [
    "gajah = int(input(\"jumlah gajah :\"))\n",
    "semut = int(input(\"jumlah semut :\"))\n",
    "def x() :\n",
    "    a= (gajah == semut)\n",
    "    return a\n",
    "def y() :\n",
    "    b= (gajah > semut)\n",
    "    return b\n",
    "\n",
    "print(\"apakah jumlah gajah sama dengan jumlah semut :\", x())\n",
    "print(\"apakah jumlah gajah lebih besar dari semut :\", y())"
   ]
  },
  {
   "cell_type": "code",
   "execution_count": null,
   "metadata": {},
   "outputs": [],
   "source": []
  }
 ],
 "metadata": {
  "kernelspec": {
   "display_name": "Python 3",
   "language": "python",
   "name": "python3"
  },
  "language_info": {
   "codemirror_mode": {
    "name": "ipython",
    "version": 3
   },
   "file_extension": ".py",
   "mimetype": "text/x-python",
   "name": "python",
   "nbconvert_exporter": "python",
   "pygments_lexer": "ipython3",
   "version": "3.8.3"
  }
 },
 "nbformat": 4,
 "nbformat_minor": 4
}
