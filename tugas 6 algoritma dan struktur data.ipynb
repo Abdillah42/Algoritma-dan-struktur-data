{
 "cells": [
  {
   "cell_type": "code",
   "execution_count": 4,
   "metadata": {},
   "outputs": [
    {
     "name": "stdout",
     "output_type": "stream",
     "text": [
      "inputkan nilai anda : 69\n",
      "silahkan untuk remidi\n"
     ]
    }
   ],
   "source": [
    "nilai = int(input(\"inputkan nilai anda : \"))\n",
    "if nilai <70 :\n",
    "    print(\"silahkan untuk remidi\")\n"
   ]
  },
  {
   "cell_type": "code",
   "execution_count": 15,
   "metadata": {},
   "outputs": [
    {
     "name": "stdout",
     "output_type": "stream",
     "text": [
      "masukan nilai jari-jari : 5\n",
      "jadi luasnya :  78.5\n",
      "lingkaran ini kecil\n"
     ]
    }
   ],
   "source": [
    "phi=3.14\n",
    "r=int(input(\"masukan nilai jari-jari : \"))\n",
    "L=(phi*r*r)\n",
    "print(\"jadi luasnya : \", L)\n",
    "if L > 314 :\n",
    "    print(\"lingkaran ini besar\")\n",
    "else :\n",
    "    print(\"lingkaran ini kecil\")\n",
    "    "
   ]
  },
  {
   "cell_type": "code",
   "execution_count": 44,
   "metadata": {},
   "outputs": [
    {
     "name": "stdout",
     "output_type": "stream",
     "text": [
      "masukan nomor program : 1\n",
      "panjang : 5\n",
      "lebar : 3\n",
      "tinggi : 7\n",
      "jadi volume balok : 105\n"
     ]
    }
   ],
   "source": [
    "def x() :\n",
    "        p=int(input(\"panjang : \"))\n",
    "        l=int(input(\"lebar : \"))\n",
    "        t=int(input(\"tinggi : \"))\n",
    "        vb = (p*l*t)\n",
    "        return vb\n",
    "def y() :\n",
    "        s=int(input(\"sisi : \"))\n",
    "        vk = (s*s*s)\n",
    "        return vk\n",
    "    \n",
    "program=int(input(\"masukan nomor program : \"))\n",
    "\n",
    "if program == 1 :\n",
    "    print(\"jadi volume balok :\", x())\n",
    "    \n",
    "elif program == 2 :\n",
    "    print(\"jadi volume kubus :\", y())\n",
    "    \n",
    "else:\n",
    "    print(\"program tidak tersedia\")\n"
   ]
  },
  {
   "cell_type": "code",
   "execution_count": null,
   "metadata": {},
   "outputs": [],
   "source": []
  }
 ],
 "metadata": {
  "kernelspec": {
   "display_name": "Python 3",
   "language": "python",
   "name": "python3"
  },
  "language_info": {
   "codemirror_mode": {
    "name": "ipython",
    "version": 3
   },
   "file_extension": ".py",
   "mimetype": "text/x-python",
   "name": "python",
   "nbconvert_exporter": "python",
   "pygments_lexer": "ipython3",
   "version": "3.8.3"
  }
 },
 "nbformat": 4,
 "nbformat_minor": 4
}
